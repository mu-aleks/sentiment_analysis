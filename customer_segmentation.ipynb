{
 "cells": [
  {
   "cell_type": "code",
   "execution_count": 35,
   "metadata": {},
   "outputs": [],
   "source": [
    "import pandas as pd"
   ]
  },
  {
   "cell_type": "code",
   "execution_count": 36,
   "metadata": {},
   "outputs": [],
   "source": [
    "data = pd.read_csv('data.csv')"
   ]
  },
  {
   "cell_type": "code",
   "execution_count": 37,
   "metadata": {},
   "outputs": [
    {
     "data": {
      "text/html": [
       "<div>\n",
       "<style scoped>\n",
       "    .dataframe tbody tr th:only-of-type {\n",
       "        vertical-align: middle;\n",
       "    }\n",
       "\n",
       "    .dataframe tbody tr th {\n",
       "        vertical-align: top;\n",
       "    }\n",
       "\n",
       "    .dataframe thead th {\n",
       "        text-align: right;\n",
       "    }\n",
       "</style>\n",
       "<table border=\"1\" class=\"dataframe\">\n",
       "  <thead>\n",
       "    <tr style=\"text-align: right;\">\n",
       "      <th></th>\n",
       "      <th>id</th>\n",
       "      <th>purchase_counts</th>\n",
       "      <th>purchase_sum</th>\n",
       "      <th>attribution_score</th>\n",
       "      <th>website_visits</th>\n",
       "      <th>website_behavior_classification</th>\n",
       "      <th>experience</th>\n",
       "      <th>active</th>\n",
       "      <th>characteristic_one</th>\n",
       "      <th>characteristic_two</th>\n",
       "      <th>characteristic_three</th>\n",
       "      <th>customer_journey_progress_program</th>\n",
       "      <th>remarks</th>\n",
       "    </tr>\n",
       "  </thead>\n",
       "  <tbody>\n",
       "    <tr>\n",
       "      <th>0</th>\n",
       "      <td>5ca74cdcfc13ae60bd000097</td>\n",
       "      <td>5</td>\n",
       "      <td>44810.57</td>\n",
       "      <td>4</td>\n",
       "      <td>14</td>\n",
       "      <td>5</td>\n",
       "      <td>0.00</td>\n",
       "      <td>2.05</td>\n",
       "      <td>1</td>\n",
       "      <td>25</td>\n",
       "      <td>3</td>\n",
       "      <td>2</td>\n",
       "      <td>In hac habitasse platea dictumst. Etiam faucib...</td>\n",
       "    </tr>\n",
       "    <tr>\n",
       "      <th>1</th>\n",
       "      <td>5ca74cddfc13ae60bd0000f5</td>\n",
       "      <td>5</td>\n",
       "      <td>30612.91</td>\n",
       "      <td>9</td>\n",
       "      <td>7</td>\n",
       "      <td>9</td>\n",
       "      <td>0.00</td>\n",
       "      <td>4.94</td>\n",
       "      <td>2</td>\n",
       "      <td>25</td>\n",
       "      <td>3</td>\n",
       "      <td>1</td>\n",
       "      <td>Praesent blandit. Nam nulla. Integer pede just...</td>\n",
       "    </tr>\n",
       "    <tr>\n",
       "      <th>2</th>\n",
       "      <td>5ca74cddfc13ae60bd00010a</td>\n",
       "      <td>7</td>\n",
       "      <td>35655.59</td>\n",
       "      <td>3</td>\n",
       "      <td>26</td>\n",
       "      <td>5</td>\n",
       "      <td>0.00</td>\n",
       "      <td>3.61</td>\n",
       "      <td>1</td>\n",
       "      <td>26</td>\n",
       "      <td>1</td>\n",
       "      <td>1</td>\n",
       "      <td>Praesent id massa id nisl venenatis lacinia. A...</td>\n",
       "    </tr>\n",
       "    <tr>\n",
       "      <th>3</th>\n",
       "      <td>5ca74cdcfc13ae60bd000073</td>\n",
       "      <td>7</td>\n",
       "      <td>30139.24</td>\n",
       "      <td>7</td>\n",
       "      <td>9</td>\n",
       "      <td>4</td>\n",
       "      <td>0.01</td>\n",
       "      <td>4.44</td>\n",
       "      <td>2</td>\n",
       "      <td>26</td>\n",
       "      <td>3</td>\n",
       "      <td>1</td>\n",
       "      <td>In hac habitasse platea dictumst. Morbi vestib...</td>\n",
       "    </tr>\n",
       "    <tr>\n",
       "      <th>4</th>\n",
       "      <td>5ca74cdcfc13ae60bd000040</td>\n",
       "      <td>4</td>\n",
       "      <td>4501.13</td>\n",
       "      <td>3</td>\n",
       "      <td>10</td>\n",
       "      <td>1</td>\n",
       "      <td>0.02</td>\n",
       "      <td>4.51</td>\n",
       "      <td>1</td>\n",
       "      <td>25</td>\n",
       "      <td>3</td>\n",
       "      <td>1</td>\n",
       "      <td>Pellentesque at nulla. Suspendisse potenti. Cr...</td>\n",
       "    </tr>\n",
       "    <tr>\n",
       "      <th>...</th>\n",
       "      <td>...</td>\n",
       "      <td>...</td>\n",
       "      <td>...</td>\n",
       "      <td>...</td>\n",
       "      <td>...</td>\n",
       "      <td>...</td>\n",
       "      <td>...</td>\n",
       "      <td>...</td>\n",
       "      <td>...</td>\n",
       "      <td>...</td>\n",
       "      <td>...</td>\n",
       "      <td>...</td>\n",
       "      <td>...</td>\n",
       "    </tr>\n",
       "    <tr>\n",
       "      <th>395</th>\n",
       "      <td>5ca74cdcfc13ae60bd000013</td>\n",
       "      <td>4</td>\n",
       "      <td>1426.58</td>\n",
       "      <td>9</td>\n",
       "      <td>3</td>\n",
       "      <td>5</td>\n",
       "      <td>0.99</td>\n",
       "      <td>4.99</td>\n",
       "      <td>2</td>\n",
       "      <td>25</td>\n",
       "      <td>2</td>\n",
       "      <td>7</td>\n",
       "      <td>In hac habitasse platea dictumst. Etiam faucib...</td>\n",
       "    </tr>\n",
       "    <tr>\n",
       "      <th>396</th>\n",
       "      <td>5ca74cddfc13ae60bd0000e3</td>\n",
       "      <td>7</td>\n",
       "      <td>13374.10</td>\n",
       "      <td>1</td>\n",
       "      <td>28</td>\n",
       "      <td>4</td>\n",
       "      <td>0.99</td>\n",
       "      <td>2.38</td>\n",
       "      <td>1</td>\n",
       "      <td>25</td>\n",
       "      <td>6</td>\n",
       "      <td>10</td>\n",
       "      <td>Duis consequat dui nec nisi volutpat eleifend....</td>\n",
       "    </tr>\n",
       "    <tr>\n",
       "      <th>397</th>\n",
       "      <td>5ca74cddfc13ae60bd000117</td>\n",
       "      <td>1</td>\n",
       "      <td>23515.38</td>\n",
       "      <td>11</td>\n",
       "      <td>7</td>\n",
       "      <td>4</td>\n",
       "      <td>0.99</td>\n",
       "      <td>1.48</td>\n",
       "      <td>1</td>\n",
       "      <td>25</td>\n",
       "      <td>3</td>\n",
       "      <td>10</td>\n",
       "      <td>Nulla ut erat id mauris vulputate elementum. N...</td>\n",
       "    </tr>\n",
       "    <tr>\n",
       "      <th>398</th>\n",
       "      <td>5ca74cdcfc13ae60bd0000ad</td>\n",
       "      <td>2</td>\n",
       "      <td>9976.02</td>\n",
       "      <td>12</td>\n",
       "      <td>12</td>\n",
       "      <td>8</td>\n",
       "      <td>1.00</td>\n",
       "      <td>4.65</td>\n",
       "      <td>2</td>\n",
       "      <td>25</td>\n",
       "      <td>2</td>\n",
       "      <td>10</td>\n",
       "      <td>Cum sociis natoque penatibus et magnis dis par...</td>\n",
       "    </tr>\n",
       "    <tr>\n",
       "      <th>399</th>\n",
       "      <td>5ca74cddfc13ae60bd000103</td>\n",
       "      <td>3</td>\n",
       "      <td>14947.74</td>\n",
       "      <td>11</td>\n",
       "      <td>16</td>\n",
       "      <td>7</td>\n",
       "      <td>1.00</td>\n",
       "      <td>1.71</td>\n",
       "      <td>2</td>\n",
       "      <td>24</td>\n",
       "      <td>6</td>\n",
       "      <td>2</td>\n",
       "      <td>Phasellus in felis. Donec semper sapien a libe...</td>\n",
       "    </tr>\n",
       "  </tbody>\n",
       "</table>\n",
       "<p>400 rows × 13 columns</p>\n",
       "</div>"
      ],
      "text/plain": [
       "                           id  purchase_counts  purchase_sum  \\\n",
       "0    5ca74cdcfc13ae60bd000097                5      44810.57   \n",
       "1    5ca74cddfc13ae60bd0000f5                5      30612.91   \n",
       "2    5ca74cddfc13ae60bd00010a                7      35655.59   \n",
       "3    5ca74cdcfc13ae60bd000073                7      30139.24   \n",
       "4    5ca74cdcfc13ae60bd000040                4       4501.13   \n",
       "..                        ...              ...           ...   \n",
       "395  5ca74cdcfc13ae60bd000013                4       1426.58   \n",
       "396  5ca74cddfc13ae60bd0000e3                7      13374.10   \n",
       "397  5ca74cddfc13ae60bd000117                1      23515.38   \n",
       "398  5ca74cdcfc13ae60bd0000ad                2       9976.02   \n",
       "399  5ca74cddfc13ae60bd000103                3      14947.74   \n",
       "\n",
       "     attribution_score  website_visits  website_behavior_classification  \\\n",
       "0                    4              14                                5   \n",
       "1                    9               7                                9   \n",
       "2                    3              26                                5   \n",
       "3                    7               9                                4   \n",
       "4                    3              10                                1   \n",
       "..                 ...             ...                              ...   \n",
       "395                  9               3                                5   \n",
       "396                  1              28                                4   \n",
       "397                 11               7                                4   \n",
       "398                 12              12                                8   \n",
       "399                 11              16                                7   \n",
       "\n",
       "     experience  active  characteristic_one  characteristic_two  \\\n",
       "0          0.00    2.05                   1                  25   \n",
       "1          0.00    4.94                   2                  25   \n",
       "2          0.00    3.61                   1                  26   \n",
       "3          0.01    4.44                   2                  26   \n",
       "4          0.02    4.51                   1                  25   \n",
       "..          ...     ...                 ...                 ...   \n",
       "395        0.99    4.99                   2                  25   \n",
       "396        0.99    2.38                   1                  25   \n",
       "397        0.99    1.48                   1                  25   \n",
       "398        1.00    4.65                   2                  25   \n",
       "399        1.00    1.71                   2                  24   \n",
       "\n",
       "     characteristic_three  customer_journey_progress_program  \\\n",
       "0                       3                                  2   \n",
       "1                       3                                  1   \n",
       "2                       1                                  1   \n",
       "3                       3                                  1   \n",
       "4                       3                                  1   \n",
       "..                    ...                                ...   \n",
       "395                     2                                  7   \n",
       "396                     6                                 10   \n",
       "397                     3                                 10   \n",
       "398                     2                                 10   \n",
       "399                     6                                  2   \n",
       "\n",
       "                                               remarks  \n",
       "0    In hac habitasse platea dictumst. Etiam faucib...  \n",
       "1    Praesent blandit. Nam nulla. Integer pede just...  \n",
       "2    Praesent id massa id nisl venenatis lacinia. A...  \n",
       "3    In hac habitasse platea dictumst. Morbi vestib...  \n",
       "4    Pellentesque at nulla. Suspendisse potenti. Cr...  \n",
       "..                                                 ...  \n",
       "395  In hac habitasse platea dictumst. Etiam faucib...  \n",
       "396  Duis consequat dui nec nisi volutpat eleifend....  \n",
       "397  Nulla ut erat id mauris vulputate elementum. N...  \n",
       "398  Cum sociis natoque penatibus et magnis dis par...  \n",
       "399  Phasellus in felis. Donec semper sapien a libe...  \n",
       "\n",
       "[400 rows x 13 columns]"
      ]
     },
     "execution_count": 37,
     "metadata": {},
     "output_type": "execute_result"
    }
   ],
   "source": [
    "data"
   ]
  },
  {
   "cell_type": "code",
   "execution_count": 38,
   "metadata": {},
   "outputs": [],
   "source": [
    "import matplotlib.pyplot as plt\n",
    "%matplotlib inline"
   ]
  },
  {
   "cell_type": "code",
   "execution_count": 39,
   "metadata": {},
   "outputs": [
    {
     "data": {
      "text/plain": [
       "(array([81., 23., 24., 23., 30., 56., 41., 32., 20., 70.]),\n",
       " array([ 0. ,  1.2,  2.4,  3.6,  4.8,  6. ,  7.2,  8.4,  9.6, 10.8, 12. ]),\n",
       " <a list of 10 Patch objects>)"
      ]
     },
     "execution_count": 39,
     "metadata": {},
     "output_type": "execute_result"
    },
    {
     "data": {
      "image/png": "[encoded data removed]",
      "text/plain": [
       "<Figure size 432x288 with 1 Axes>"
      ]
     },
     "metadata": {
      "needs_background": "light"
     },
     "output_type": "display_data"
    }
   ],
   "source": [
    "plt.hist(data.attribution_score)"
   ]
  },
  {
   "cell_type": "code",
   "execution_count": 40,
   "metadata": {},
   "outputs": [
    {
     "data": {
      "text/plain": [
       "<matplotlib.axes._subplots.AxesSubplot at 0x15c65452348>"
      ]
     },
     "execution_count": 40,
     "metadata": {},
     "output_type": "execute_result"
    },
    {
     "data": {
      "image/png": "[encoded data removed]",
      "text/plain": [
       "<Figure size 432x288 with 1 Axes>"
      ]
     },
     "metadata": {
      "needs_background": "light"
     },
     "output_type": "display_data"
    }
   ],
   "source": [
    "data.plot.scatter(x=\"purchase_sum\",y=\"experience\")"
   ]
  },
  {
   "cell_type": "code",
   "execution_count": 41,
   "metadata": {},
   "outputs": [],
   "source": [
    "import warnings\n",
    "warnings.filterwarnings('ignore')"
   ]
  },
  {
   "cell_type": "code",
   "execution_count": 42,
   "metadata": {},
   "outputs": [
    {
     "data": {
      "text/html": [
       "<div>\n",
       "<style scoped>\n",
       "    .dataframe tbody tr th:only-of-type {\n",
       "        vertical-align: middle;\n",
       "    }\n",
       "\n",
       "    .dataframe tbody tr th {\n",
       "        vertical-align: top;\n",
       "    }\n",
       "\n",
       "    .dataframe thead th {\n",
       "        text-align: right;\n",
       "    }\n",
       "</style>\n",
       "<table border=\"1\" class=\"dataframe\">\n",
       "  <thead>\n",
       "    <tr style=\"text-align: right;\">\n",
       "      <th></th>\n",
       "      <th>purchase_counts</th>\n",
       "      <th>purchase_sum</th>\n",
       "      <th>attribution_score</th>\n",
       "      <th>website_visits</th>\n",
       "      <th>website_behavior_classification</th>\n",
       "      <th>experience</th>\n",
       "      <th>active</th>\n",
       "      <th>characteristic_one</th>\n",
       "      <th>characteristic_two</th>\n",
       "      <th>characteristic_three</th>\n",
       "      <th>customer_journey_progress_program</th>\n",
       "    </tr>\n",
       "  </thead>\n",
       "  <tbody>\n",
       "    <tr>\n",
       "      <th>purchase_counts</th>\n",
       "      <td>1.000000</td>\n",
       "      <td>0.114807</td>\n",
       "      <td>-0.042659</td>\n",
       "      <td>-0.004049</td>\n",
       "      <td>-0.046742</td>\n",
       "      <td>-0.040072</td>\n",
       "      <td>0.037639</td>\n",
       "      <td>-0.094548</td>\n",
       "      <td>-0.006161</td>\n",
       "      <td>0.048409</td>\n",
       "      <td>-0.012585</td>\n",
       "    </tr>\n",
       "    <tr>\n",
       "      <th>purchase_sum</th>\n",
       "      <td>0.114807</td>\n",
       "      <td>1.000000</td>\n",
       "      <td>-0.049966</td>\n",
       "      <td>-0.069247</td>\n",
       "      <td>-0.038276</td>\n",
       "      <td>0.025457</td>\n",
       "      <td>-0.034714</td>\n",
       "      <td>-0.056691</td>\n",
       "      <td>-0.065040</td>\n",
       "      <td>-0.005819</td>\n",
       "      <td>-0.002640</td>\n",
       "    </tr>\n",
       "    <tr>\n",
       "      <th>attribution_score</th>\n",
       "      <td>-0.042659</td>\n",
       "      <td>-0.049966</td>\n",
       "      <td>1.000000</td>\n",
       "      <td>-0.019553</td>\n",
       "      <td>0.017413</td>\n",
       "      <td>0.000997</td>\n",
       "      <td>-0.037774</td>\n",
       "      <td>0.052216</td>\n",
       "      <td>-0.029829</td>\n",
       "      <td>-0.074929</td>\n",
       "      <td>-0.025171</td>\n",
       "    </tr>\n",
       "    <tr>\n",
       "      <th>website_visits</th>\n",
       "      <td>-0.004049</td>\n",
       "      <td>-0.069247</td>\n",
       "      <td>-0.019553</td>\n",
       "      <td>1.000000</td>\n",
       "      <td>-0.026279</td>\n",
       "      <td>-0.053223</td>\n",
       "      <td>0.022142</td>\n",
       "      <td>0.017478</td>\n",
       "      <td>0.005452</td>\n",
       "      <td>-0.017198</td>\n",
       "      <td>-0.039103</td>\n",
       "    </tr>\n",
       "    <tr>\n",
       "      <th>website_behavior_classification</th>\n",
       "      <td>-0.046742</td>\n",
       "      <td>-0.038276</td>\n",
       "      <td>0.017413</td>\n",
       "      <td>-0.026279</td>\n",
       "      <td>1.000000</td>\n",
       "      <td>0.036122</td>\n",
       "      <td>0.150231</td>\n",
       "      <td>-0.060081</td>\n",
       "      <td>0.013270</td>\n",
       "      <td>-0.032667</td>\n",
       "      <td>0.090230</td>\n",
       "    </tr>\n",
       "    <tr>\n",
       "      <th>experience</th>\n",
       "      <td>-0.040072</td>\n",
       "      <td>0.025457</td>\n",
       "      <td>0.000997</td>\n",
       "      <td>-0.053223</td>\n",
       "      <td>0.036122</td>\n",
       "      <td>1.000000</td>\n",
       "      <td>0.046166</td>\n",
       "      <td>-0.051469</td>\n",
       "      <td>-0.050147</td>\n",
       "      <td>-0.000608</td>\n",
       "      <td>0.873334</td>\n",
       "    </tr>\n",
       "    <tr>\n",
       "      <th>active</th>\n",
       "      <td>0.037639</td>\n",
       "      <td>-0.034714</td>\n",
       "      <td>-0.037774</td>\n",
       "      <td>0.022142</td>\n",
       "      <td>0.150231</td>\n",
       "      <td>0.046166</td>\n",
       "      <td>1.000000</td>\n",
       "      <td>0.099303</td>\n",
       "      <td>0.061071</td>\n",
       "      <td>-0.015051</td>\n",
       "      <td>0.050226</td>\n",
       "    </tr>\n",
       "    <tr>\n",
       "      <th>characteristic_one</th>\n",
       "      <td>-0.094548</td>\n",
       "      <td>-0.056691</td>\n",
       "      <td>0.052216</td>\n",
       "      <td>0.017478</td>\n",
       "      <td>-0.060081</td>\n",
       "      <td>-0.051469</td>\n",
       "      <td>0.099303</td>\n",
       "      <td>1.000000</td>\n",
       "      <td>-0.030360</td>\n",
       "      <td>0.005048</td>\n",
       "      <td>-0.038408</td>\n",
       "    </tr>\n",
       "    <tr>\n",
       "      <th>characteristic_two</th>\n",
       "      <td>-0.006161</td>\n",
       "      <td>-0.065040</td>\n",
       "      <td>-0.029829</td>\n",
       "      <td>0.005452</td>\n",
       "      <td>0.013270</td>\n",
       "      <td>-0.050147</td>\n",
       "      <td>0.061071</td>\n",
       "      <td>-0.030360</td>\n",
       "      <td>1.000000</td>\n",
       "      <td>0.022838</td>\n",
       "      <td>-0.065153</td>\n",
       "    </tr>\n",
       "    <tr>\n",
       "      <th>characteristic_three</th>\n",
       "      <td>0.048409</td>\n",
       "      <td>-0.005819</td>\n",
       "      <td>-0.074929</td>\n",
       "      <td>-0.017198</td>\n",
       "      <td>-0.032667</td>\n",
       "      <td>-0.000608</td>\n",
       "      <td>-0.015051</td>\n",
       "      <td>0.005048</td>\n",
       "      <td>0.022838</td>\n",
       "      <td>1.000000</td>\n",
       "      <td>-0.018790</td>\n",
       "    </tr>\n",
       "    <tr>\n",
       "      <th>customer_journey_progress_program</th>\n",
       "      <td>-0.012585</td>\n",
       "      <td>-0.002640</td>\n",
       "      <td>-0.025171</td>\n",
       "      <td>-0.039103</td>\n",
       "      <td>0.090230</td>\n",
       "      <td>0.873334</td>\n",
       "      <td>0.050226</td>\n",
       "      <td>-0.038408</td>\n",
       "      <td>-0.065153</td>\n",
       "      <td>-0.018790</td>\n",
       "      <td>1.000000</td>\n",
       "    </tr>\n",
       "  </tbody>\n",
       "</table>\n",
       "</div>"
      ],
      "text/plain": [
       "                                   purchase_counts  purchase_sum  \\\n",
       "purchase_counts                           1.000000      0.114807   \n",
       "purchase_sum                              0.114807      1.000000   \n",
       "attribution_score                        -0.042659     -0.049966   \n",
       "website_visits                           -0.004049     -0.069247   \n",
       "website_behavior_classification          -0.046742     -0.038276   \n",
       "experience                               -0.040072      0.025457   \n",
       "active                                    0.037639     -0.034714   \n",
       "characteristic_one                       -0.094548     -0.056691   \n",
       "characteristic_two                       -0.006161     -0.065040   \n",
       "characteristic_three                      0.048409     -0.005819   \n",
       "customer_journey_progress_program        -0.012585     -0.002640   \n",
       "\n",
       "                                   attribution_score  website_visits  \\\n",
       "purchase_counts                            -0.042659       -0.004049   \n",
       "purchase_sum                               -0.049966       -0.069247   \n",
       "attribution_score                           1.000000       -0.019553   \n",
       "website_visits                             -0.019553        1.000000   \n",
       "website_behavior_classification             0.017413       -0.026279   \n",
       "experience                                  0.000997       -0.053223   \n",
       "active                                     -0.037774        0.022142   \n",
       "characteristic_one                          0.052216        0.017478   \n",
       "characteristic_two                         -0.029829        0.005452   \n",
       "characteristic_three                       -0.074929       -0.017198   \n",
       "customer_journey_progress_program          -0.025171       -0.039103   \n",
       "\n",
       "                                   website_behavior_classification  \\\n",
       "purchase_counts                                          -0.046742   \n",
       "purchase_sum                                             -0.038276   \n",
       "attribution_score                                         0.017413   \n",
       "website_visits                                           -0.026279   \n",
       "website_behavior_classification                           1.000000   \n",
       "experience                                                0.036122   \n",
       "active                                                    0.150231   \n",
       "characteristic_one                                       -0.060081   \n",
       "characteristic_two                                        0.013270   \n",
       "characteristic_three                                     -0.032667   \n",
       "customer_journey_progress_program                         0.090230   \n",
       "\n",
       "                                   experience    active  characteristic_one  \\\n",
       "purchase_counts                     -0.040072  0.037639           -0.094548   \n",
       "purchase_sum                         0.025457 -0.034714           -0.056691   \n",
       "attribution_score                    0.000997 -0.037774            0.052216   \n",
       "website_visits                      -0.053223  0.022142            0.017478   \n",
       "website_behavior_classification      0.036122  0.150231           -0.060081   \n",
       "experience                           1.000000  0.046166           -0.051469   \n",
       "active                               0.046166  1.000000            0.099303   \n",
       "characteristic_one                  -0.051469  0.099303            1.000000   \n",
       "characteristic_two                  -0.050147  0.061071           -0.030360   \n",
       "characteristic_three                -0.000608 -0.015051            0.005048   \n",
       "customer_journey_progress_program    0.873334  0.050226           -0.038408   \n",
       "\n",
       "                                   characteristic_two  characteristic_three  \\\n",
       "purchase_counts                             -0.006161              0.048409   \n",
       "purchase_sum                                -0.065040             -0.005819   \n",
       "attribution_score                           -0.029829             -0.074929   \n",
       "website_visits                               0.005452             -0.017198   \n",
       "website_behavior_classification              0.013270             -0.032667   \n",
       "experience                                  -0.050147             -0.000608   \n",
       "active                                       0.061071             -0.015051   \n",
       "characteristic_one                          -0.030360              0.005048   \n",
       "characteristic_two                           1.000000              0.022838   \n",
       "characteristic_three                         0.022838              1.000000   \n",
       "customer_journey_progress_program           -0.065153             -0.018790   \n",
       "\n",
       "                                   customer_journey_progress_program  \n",
       "purchase_counts                                            -0.012585  \n",
       "purchase_sum                                               -0.002640  \n",
       "attribution_score                                          -0.025171  \n",
       "website_visits                                             -0.039103  \n",
       "website_behavior_classification                             0.090230  \n",
       "experience                                                  0.873334  \n",
       "active                                                      0.050226  \n",
       "characteristic_one                                         -0.038408  \n",
       "characteristic_two                                         -0.065153  \n",
       "characteristic_three                                       -0.018790  \n",
       "customer_journey_progress_program                           1.000000  "
      ]
     },
     "execution_count": 42,
     "metadata": {},
     "output_type": "execute_result"
    }
   ],
   "source": [
    "data.corr()"
   ]
  },
  {
   "cell_type": "code",
   "execution_count": 44,
   "metadata": {},
   "outputs": [
    {
     "data": {
      "text/plain": [
       "<matplotlib.axes._subplots.AxesSubplot at 0x15c6550af88>"
      ]
     },
     "execution_count": 44,
     "metadata": {},
     "output_type": "execute_result"
    },
    {
     "data": {
      "image/png": "[encoded data removed]",
      "text/plain": [
       "<Figure size 432x288 with 1 Axes>"
      ]
     },
     "metadata": {
      "needs_background": "light"
     },
     "output_type": "display_data"
    }
   ],
   "source": [
    "data.plot.scatter(x=\"customer_journey_progress_program\",y=\"experience\")"
   ]
  },
  {
   "cell_type": "code",
   "execution_count": 46,
   "metadata": {},
   "outputs": [
    {
     "data": {
      "text/plain": [
       "<matplotlib.axes._subplots.AxesSubplot at 0x15c654c6cc8>"
      ]
     },
     "execution_count": 46,
     "metadata": {},
     "output_type": "execute_result"
    },
    {
     "data": {
      "image/png": "[encoded data removed]",
      "text/plain": [
       "<Figure size 432x288 with 1 Axes>"
      ]
     },
     "metadata": {
      "needs_background": "light"
     },
     "output_type": "display_data"
    }
   ],
   "source": [
    "data.plot.scatter(x=\"purchase_sum\",y=\"experience\")"
   ]
  },
  {
   "cell_type": "code",
   "execution_count": 47,
   "metadata": {},
   "outputs": [],
   "source": [
    "import numpy as np\n",
    "import seaborn as sns"
   ]
  },
  {
   "cell_type": "code",
   "execution_count": 49,
   "metadata": {},
   "outputs": [
    {
     "data": {
      "text/plain": [
       "<matplotlib.axes._subplots.AxesSubplot at 0x15c66848e48>"
      ]
     },
     "execution_count": 49,
     "metadata": {},
     "output_type": "execute_result"
    },
    {
     "data": {
      "image/png": "[encoded data removed]",
      "text/plain": [
       "<Figure size 432x288 with 1 Axes>"
      ]
     },
     "metadata": {
      "needs_background": "light"
     },
     "output_type": "display_data"
    }
   ],
   "source": [
    "sns.regplot(x=\"customer_journey_progress_program\",y=\"experience\",data= data)"
   ]
  },
  {
   "cell_type": "code",
   "execution_count": 50,
   "metadata": {},
   "outputs": [],
   "source": [
    "# prediction\n",
    "df = pd.read_csv('data.csv')"
   ]
  },
  {
   "cell_type": "code",
   "execution_count": 55,
   "metadata": {},
   "outputs": [],
   "source": [
    "from sklearn.linear_model import LinearRegression"
   ]
  },
  {
   "cell_type": "code",
   "execution_count": 61,
   "metadata": {},
   "outputs": [],
   "source": [
    "#assigning data frames to two variables\n",
    "X= df[['customer_journey_progress_program']]\n",
    "Y= df['experience']"
   ]
  },
  {
   "cell_type": "code",
   "execution_count": 63,
   "metadata": {},
   "outputs": [
    {
     "data": {
      "text/plain": [
       "0.762711907750049"
      ]
     },
     "execution_count": 63,
     "metadata": {},
     "output_type": "execute_result"
    }
   ],
   "source": [
    "#assigning linear regression functionality to the variable lm\n",
    "lm = LinearRegression()\n",
    "lm.fit(X,Y)\n",
    "lm.score(X,Y)"
   ]
  },
  {
   "cell_type": "code",
   "execution_count": 64,
   "metadata": {},
   "outputs": [
    {
     "data": {
      "text/plain": [
       "array([0.19673501, 0.10847966, 0.10847966, 0.10847966, 0.10847966,\n",
       "       0.10847966, 0.10847966, 0.28499035, 0.10847966, 0.10847966,\n",
       "       0.10847966, 0.10847966, 0.10847966, 0.10847966, 0.10847966,\n",
       "       0.10847966, 0.10847966, 0.10847966, 0.81452245, 0.10847966,\n",
       "       0.10847966, 0.10847966, 0.10847966, 0.10847966, 0.10847966,\n",
       "       0.10847966, 0.10847966, 0.10847966, 0.10847966, 0.10847966,\n",
       "       0.10847966, 0.10847966, 0.10847966, 0.19673501, 0.10847966,\n",
       "       0.81452245, 0.10847966, 0.10847966, 0.10847966, 0.10847966,\n",
       "       0.02022431, 0.81452245, 0.19673501, 0.10847966, 0.19673501,\n",
       "       0.19673501, 0.19673501, 0.19673501, 0.19673501, 0.19673501,\n",
       "       0.19673501, 0.19673501, 0.19673501, 0.19673501, 0.19673501,\n",
       "       0.19673501, 0.19673501, 0.19673501, 0.63801175, 0.19673501,\n",
       "       0.19673501, 0.19673501, 0.19673501, 0.19673501, 0.19673501,\n",
       "       0.19673501, 0.19673501, 0.19673501, 0.19673501, 0.19673501,\n",
       "       0.5497564 , 0.19673501, 0.19673501, 0.19673501, 0.19673501,\n",
       "       0.10847966, 0.19673501, 0.19673501, 0.19673501, 0.19673501,\n",
       "       0.19673501, 0.19673501, 0.19673501, 0.19673501, 0.19673501,\n",
       "       0.19673501, 0.28499035, 0.28499035, 0.28499035, 0.28499035,\n",
       "       0.28499035, 0.63801175, 0.28499035, 0.28499035, 0.28499035,\n",
       "       0.7262671 , 0.28499035, 0.19673501, 0.10847966, 0.28499035,\n",
       "       0.28499035, 0.28499035, 0.28499035, 0.19673501, 0.81452245,\n",
       "       0.28499035, 0.28499035, 0.28499035, 0.28499035, 0.28499035,\n",
       "       0.28499035, 0.28499035, 0.28499035, 0.28499035, 0.28499035,\n",
       "       0.28499035, 0.28499035, 0.28499035, 0.28499035, 0.28499035,\n",
       "       0.28499035, 0.28499035, 0.28499035, 0.28499035, 0.28499035,\n",
       "       0.28499035, 0.28499035, 0.28499035, 0.28499035, 0.3732457 ,\n",
       "       0.3732457 , 0.3732457 , 0.3732457 , 0.3732457 , 0.3732457 ,\n",
       "       0.81452245, 0.3732457 , 0.3732457 , 0.3732457 , 0.3732457 ,\n",
       "       0.3732457 , 0.28499035, 0.3732457 , 0.3732457 , 0.3732457 ,\n",
       "       0.19673501, 0.3732457 , 0.3732457 , 0.3732457 , 0.3732457 ,\n",
       "       0.3732457 , 0.3732457 , 0.3732457 , 0.19673501, 0.3732457 ,\n",
       "       0.3732457 , 0.46150105, 0.3732457 , 0.3732457 , 0.3732457 ,\n",
       "       0.3732457 , 0.3732457 , 0.3732457 , 0.3732457 , 0.3732457 ,\n",
       "       0.3732457 , 0.3732457 , 0.46150105, 0.46150105, 0.46150105,\n",
       "       0.46150105, 0.46150105, 0.46150105, 0.46150105, 0.46150105,\n",
       "       0.46150105, 0.46150105, 0.46150105, 0.46150105, 0.46150105,\n",
       "       0.46150105, 0.46150105, 0.46150105, 0.46150105, 0.46150105,\n",
       "       0.46150105, 0.46150105, 0.46150105, 0.46150105, 0.46150105,\n",
       "       0.46150105, 0.46150105, 0.46150105, 0.46150105, 0.46150105,\n",
       "       0.46150105, 0.81452245, 0.46150105, 0.46150105, 0.46150105,\n",
       "       0.46150105, 0.46150105, 0.7262671 , 0.7262671 , 0.46150105,\n",
       "       0.46150105, 0.46150105, 0.46150105, 0.5497564 , 0.5497564 ,\n",
       "       0.5497564 , 0.5497564 , 0.5497564 , 0.5497564 , 0.5497564 ,\n",
       "       0.5497564 , 0.5497564 , 0.5497564 , 0.5497564 , 0.5497564 ,\n",
       "       0.5497564 , 0.5497564 , 0.5497564 , 0.5497564 , 0.5497564 ,\n",
       "       0.5497564 , 0.5497564 , 0.5497564 , 0.5497564 , 0.5497564 ,\n",
       "       0.5497564 , 0.5497564 , 0.5497564 , 0.46150105, 0.28499035,\n",
       "       0.5497564 , 0.5497564 , 0.5497564 , 0.5497564 , 0.63801175,\n",
       "       0.63801175, 0.63801175, 0.63801175, 0.63801175, 0.63801175,\n",
       "       0.63801175, 0.63801175, 0.63801175, 0.19673501, 0.63801175,\n",
       "       0.63801175, 0.63801175, 0.63801175, 0.63801175, 0.63801175,\n",
       "       0.63801175, 0.63801175, 0.63801175, 0.63801175, 0.63801175,\n",
       "       0.63801175, 0.28499035, 0.63801175, 0.10847966, 0.63801175,\n",
       "       0.63801175, 0.63801175, 0.81452245, 0.63801175, 0.63801175,\n",
       "       0.63801175, 0.63801175, 0.7262671 , 0.7262671 , 0.63801175,\n",
       "       0.63801175, 0.63801175, 0.63801175, 0.63801175, 0.63801175,\n",
       "       0.63801175, 0.63801175, 0.7262671 , 0.7262671 , 0.7262671 ,\n",
       "       0.7262671 , 0.7262671 , 0.7262671 , 0.7262671 , 0.7262671 ,\n",
       "       0.7262671 , 0.7262671 , 0.7262671 , 0.7262671 , 0.7262671 ,\n",
       "       0.7262671 , 0.7262671 , 0.7262671 , 0.7262671 , 0.7262671 ,\n",
       "       0.5497564 , 0.7262671 , 0.7262671 , 0.7262671 , 0.7262671 ,\n",
       "       0.7262671 , 0.7262671 , 0.7262671 , 0.7262671 , 0.7262671 ,\n",
       "       0.7262671 , 0.7262671 , 0.7262671 , 0.7262671 , 0.7262671 ,\n",
       "       0.7262671 , 0.7262671 , 0.7262671 , 0.81452245, 0.81452245,\n",
       "       0.81452245, 0.81452245, 0.81452245, 0.46150105, 0.3732457 ,\n",
       "       0.81452245, 0.81452245, 0.81452245, 0.19673501, 0.81452245,\n",
       "       0.81452245, 0.81452245, 0.81452245, 0.81452245, 0.81452245,\n",
       "       0.81452245, 0.81452245, 0.19673501, 0.81452245, 0.81452245,\n",
       "       0.81452245, 0.81452245, 0.81452245, 0.81452245, 0.81452245,\n",
       "       0.81452245, 0.81452245, 0.81452245, 0.81452245, 0.81452245,\n",
       "       0.81452245, 0.81452245, 0.81452245, 0.81452245, 0.81452245,\n",
       "       0.81452245, 0.81452245, 0.81452245, 0.9027778 , 0.9027778 ,\n",
       "       0.9027778 , 0.9027778 , 0.9027778 , 0.9027778 , 0.9027778 ,\n",
       "       0.3732457 , 0.9027778 , 0.9027778 , 0.19673501, 0.9027778 ,\n",
       "       0.9027778 , 0.9027778 , 0.9027778 , 0.9027778 , 0.9027778 ,\n",
       "       0.9027778 , 0.9027778 , 0.9027778 , 0.9027778 , 0.9027778 ,\n",
       "       0.9027778 , 0.9027778 , 0.9027778 , 0.9027778 , 0.28499035,\n",
       "       0.9027778 , 0.9027778 , 0.9027778 , 0.9027778 , 0.9027778 ,\n",
       "       0.9027778 , 0.9027778 , 0.9027778 , 0.9027778 , 0.9027778 ,\n",
       "       0.63801175, 0.9027778 , 0.9027778 , 0.9027778 , 0.19673501])"
      ]
     },
     "execution_count": 64,
     "metadata": {},
     "output_type": "execute_result"
    }
   ],
   "source": [
    "lm.predict(X)"
   ]
  },
  {
   "cell_type": "code",
   "execution_count": 66,
   "metadata": {},
   "outputs": [],
   "source": [
    "import pandas as pd\n",
    "import numpy as np\n",
    "import matplotlib.pylab as plt\n",
    "from sklearn.cluster import KMeans\n",
    "%matplotlib inline"
   ]
  },
  {
   "cell_type": "code",
   "execution_count": 68,
   "metadata": {},
   "outputs": [],
   "source": [
    "data = pd.read_csv('data.csv')"
   ]
  },
  {
   "cell_type": "code",
   "execution_count": 69,
   "metadata": {},
   "outputs": [],
   "source": [
    "x= pd.DataFrame(data,columns=['purchase_sum','experience'])"
   ]
  },
  {
   "cell_type": "code",
   "execution_count": 71,
   "metadata": {},
   "outputs": [],
   "source": [
    "y= pd.DataFrame(data.characteristic_one)\n",
    "y.columns=['Targets']"
   ]
  },
  {
   "cell_type": "code",
   "execution_count": 74,
   "metadata": {},
   "outputs": [
    {
     "data": {
      "text/plain": [
       "<matplotlib.collections.PathCollection at 0x15c6758d908>"
      ]
     },
     "execution_count": 74,
     "metadata": {},
     "output_type": "execute_result"
    },
    {
     "data": {
      "image/png": "[encoded data removed]",
      "text/plain": [
       "<Figure size 432x288 with 1 Axes>"
      ]
     },
     "metadata": {
      "needs_background": "light"
     },
     "output_type": "display_data"
    }
   ],
   "source": [
    "colormap = np.array(['','red','black'])\n",
    "plt.scatter(x.purchase_sum,x.experience,c=colormap[y.Targets])"
   ]
  },
  {
   "cell_type": "code",
   "execution_count": 75,
   "metadata": {},
   "outputs": [],
   "source": [
    "model= KMeans(n_clusters = 2)"
   ]
  },
  {
   "cell_type": "code",
   "execution_count": 83,
   "metadata": {},
   "outputs": [
    {
     "data": {
      "text/plain": [
       "KMeans(algorithm='auto', copy_x=True, init='k-means++', max_iter=300,\n",
       "       n_clusters=2, n_init=10, n_jobs=None, precompute_distances='auto',\n",
       "       random_state=None, tol=0.0001, verbose=0)"
      ]
     },
     "execution_count": 83,
     "metadata": {},
     "output_type": "execute_result"
    }
   ],
   "source": [
    "model.fit(x)"
   ]
  },
  {
   "cell_type": "code",
   "execution_count": 85,
   "metadata": {},
   "outputs": [
    {
     "data": {
      "text/plain": [
       "array([0, 0, 0, 0, 1, 1, 1, 1, 1, 0, 1, 0, 0, 1, 0, 0, 0, 1, 1, 1, 0, 1,\n",
       "       0, 1, 1, 1, 0, 1, 0, 0, 1, 0, 0, 1, 0, 1, 1, 0, 1, 0, 0, 0, 0, 1,\n",
       "       0, 1, 0, 1, 1, 0, 1, 1, 0, 1, 0, 1, 1, 0, 0, 1, 1, 1, 1, 0, 0, 1,\n",
       "       1, 0, 0, 1, 1, 0, 1, 1, 1, 1, 0, 0, 1, 1, 0, 1, 1, 1, 0, 0, 0, 1,\n",
       "       1, 0, 0, 1, 1, 0, 1, 1, 1, 0, 0, 0, 0, 0, 1, 0, 0, 1, 1, 1, 0, 1,\n",
       "       0, 0, 0, 1, 1, 0, 0, 1, 0, 0, 0, 0, 0, 1, 1, 1, 0, 0, 1, 0, 0, 1,\n",
       "       1, 1, 1, 0, 1, 1, 1, 0, 1, 0, 0, 1, 1, 0, 0, 0, 1, 0, 1, 0, 0, 0,\n",
       "       0, 1, 1, 1, 1, 0, 1, 0, 0, 1, 0, 1, 1, 0, 1, 1, 1, 0, 0, 0, 0, 0,\n",
       "       1, 1, 0, 1, 0, 1, 0, 1, 1, 1, 0, 1, 0, 0, 0, 0, 1, 1, 1, 1, 0, 1,\n",
       "       0, 0, 1, 1, 0, 0, 0, 1, 1, 1, 0, 1, 1, 1, 0, 1, 0, 0, 1, 0, 0, 1,\n",
       "       1, 1, 1, 1, 0, 1, 0, 1, 0, 1, 1, 1, 0, 0, 0, 0, 0, 1, 0, 0, 1, 0,\n",
       "       0, 1, 0, 1, 1, 0, 1, 0, 1, 0, 1, 1, 1, 0, 1, 0, 0, 1, 1, 0, 1, 0,\n",
       "       0, 1, 0, 0, 0, 0, 1, 0, 0, 0, 0, 1, 0, 1, 0, 0, 0, 1, 1, 0, 1, 0,\n",
       "       0, 1, 0, 1, 0, 1, 1, 0, 1, 0, 1, 1, 0, 1, 0, 1, 1, 0, 0, 1, 0, 0,\n",
       "       1, 1, 0, 1, 0, 1, 1, 1, 1, 0, 0, 0, 0, 0, 0, 1, 1, 0, 1, 1, 0, 1,\n",
       "       1, 0, 0, 1, 1, 0, 1, 0, 0, 0, 0, 0, 0, 0, 1, 1, 0, 0, 1, 0, 0, 0,\n",
       "       0, 1, 0, 0, 0, 0, 1, 0, 0, 1, 1, 0, 0, 0, 1, 1, 0, 1, 0, 1, 0, 0,\n",
       "       1, 0, 1, 1, 0, 0, 1, 1, 0, 1, 0, 0, 0, 0, 1, 1, 1, 1, 1, 1, 0, 1,\n",
       "       1, 1, 1, 1])"
      ]
     },
     "execution_count": 85,
     "metadata": {},
     "output_type": "execute_result"
    }
   ],
   "source": [
    "model.labels_"
   ]
  },
  {
   "cell_type": "code",
   "execution_count": 86,
   "metadata": {},
   "outputs": [],
   "source": [
    "colormap= np.array(['red','black'])"
   ]
  },
  {
   "cell_type": "code",
   "execution_count": 87,
   "metadata": {},
   "outputs": [
    {
     "data": {
      "text/plain": [
       "<matplotlib.collections.PathCollection at 0x15c6761ca88>"
      ]
     },
     "execution_count": 87,
     "metadata": {},
     "output_type": "execute_result"
    },
    {
     "data": {
      "image/png": "[encoded data removed]",
      "text/plain": [
       "<Figure size 432x288 with 1 Axes>"
      ]
     },
     "metadata": {
      "needs_background": "light"
     },
     "output_type": "display_data"
    }
   ],
   "source": [
    "plt.scatter(x.purchase_sum,x.experience,c=colormap[model.labels_])"
   ]
  },
  {
   "cell_type": "code",
   "execution_count": 88,
   "metadata": {},
   "outputs": [],
   "source": [
    "# sentiment analysis for customers to analyse customer experience\n",
    "#we are going to use customer remarks in this dataset\n"
   ]
  },
  {
   "cell_type": "code",
   "execution_count": 92,
   "metadata": {},
   "outputs": [],
   "source": [
    "df = pd.read_csv('data.csv')"
   ]
  },
  {
   "cell_type": "code",
   "execution_count": 94,
   "metadata": {},
   "outputs": [
    {
     "data": {
      "text/plain": [
       "0    In hac habitasse platea dictumst. Etiam faucib...\n",
       "1    Praesent blandit. Nam nulla. Integer pede just...\n",
       "2    Praesent id massa id nisl venenatis lacinia. A...\n",
       "3    In hac habitasse platea dictumst. Morbi vestib...\n",
       "4    Pellentesque at nulla. Suspendisse potenti. Cr...\n",
       "Name: remarks, dtype: object"
      ]
     },
     "execution_count": 94,
     "metadata": {},
     "output_type": "execute_result"
    }
   ],
   "source": [
    "df.remarks[0:5]"
   ]
  },
  {
   "cell_type": "code",
   "execution_count": 106,
   "metadata": {},
   "outputs": [],
   "source": [
    "remarks = [ 'app is takes some good time to get along with but it is good once you learn it',\n",
    "           'Lots of changes to the savings product. looks terrible',\n",
    "           'This is the best bank on the planet'\n",
    "]"
   ]
  },
  {
   "cell_type": "code",
   "execution_count": 107,
   "metadata": {},
   "outputs": [
    {
     "name": "stderr",
     "output_type": "stream",
     "text": [
      "[nltk_data] Downloading package punkt to\n",
      "[nltk_data]     C:\\Users\\a1ek5\\AppData\\Roaming\\nltk_data...\n",
      "[nltk_data]   Package punkt is already up-to-date!\n"
     ]
    },
    {
     "data": {
      "text/plain": [
       "True"
      ]
     },
     "execution_count": 107,
     "metadata": {},
     "output_type": "execute_result"
    }
   ],
   "source": [
    "from sklearn.feature_extraction.text import CountVectorizer\n",
    "import nltk\n",
    "nltk.download('punkt') # sentence tokenizer"
   ]
  },
  {
   "cell_type": "code",
   "execution_count": 108,
   "metadata": {},
   "outputs": [],
   "source": [
    "#convert remarks collection into a matrix of token counts\n",
    "remarks_token_counts = CountVectorizer(min_df = 1,tokenizer = nltk.word_tokenize)"
   ]
  },
  {
   "cell_type": "code",
   "execution_count": 109,
   "metadata": {},
   "outputs": [],
   "source": [
    "#Transform the data into a vector of word frequency counts\n",
    "remarks_as_sparse_vector = remarks_token_counts.fit_transform(remarks)"
   ]
  },
  {
   "cell_type": "code",
   "execution_count": 112,
   "metadata": {},
   "outputs": [
    {
     "data": {
      "text/plain": [
       "{'app': 2,\n",
       " 'is': 9,\n",
       " 'takes': 21,\n",
       " 'some': 20,\n",
       " 'good': 8,\n",
       " 'time': 25,\n",
       " 'to': 26,\n",
       " 'get': 7,\n",
       " 'along': 1,\n",
       " 'with': 27,\n",
       " 'but': 5,\n",
       " 'it': 10,\n",
       " 'once': 16,\n",
       " 'you': 28,\n",
       " 'learn': 11,\n",
       " 'lots': 13,\n",
       " 'of': 14,\n",
       " 'changes': 6,\n",
       " 'the': 23,\n",
       " 'savings': 19,\n",
       " 'product': 18,\n",
       " '.': 0,\n",
       " 'looks': 12,\n",
       " 'terrible': 22,\n",
       " 'this': 24,\n",
       " 'best': 4,\n",
       " 'bank': 3,\n",
       " 'on': 15,\n",
       " 'planet': 17}"
      ]
     },
     "execution_count": 112,
     "metadata": {},
     "output_type": "execute_result"
    }
   ],
   "source": [
    "# words are mapped to a given index in the words remarks\n",
    "remarks_token_counts.vocabulary_"
   ]
  },
  {
   "cell_type": "code",
   "execution_count": 118,
   "metadata": {},
   "outputs": [],
   "source": [
    "from vaderSentiment.vaderSentiment import SentimentIntensityAnalyzer"
   ]
  },
  {
   "cell_type": "code",
   "execution_count": 119,
   "metadata": {},
   "outputs": [],
   "source": [
    "analyser = SentimentIntensityAnalyzer()"
   ]
  },
  {
   "cell_type": "code",
   "execution_count": 120,
   "metadata": {},
   "outputs": [],
   "source": [
    "#function to pull a sentence and give t a score\n",
    "def sentiment_analyser_scores(sentence):\n",
    "    score = analyser.polarity_scores(sentence)\n",
    "    print(\"{}{}\".format(sentence,str(score)))\n",
    "    "
   ]
  },
  {
   "cell_type": "code",
   "execution_count": 121,
   "metadata": {},
   "outputs": [
    {
     "name": "stdout",
     "output_type": "stream",
     "text": [
      "{'neg': 0.0, 'neu': 0.0, 'pos': 0.0, 'compound': 0.0}\n"
     ]
    }
   ],
   "source": [
    "sentiment_analyser_scores(\"\")"
   ]
  },
  {
   "cell_type": "code",
   "execution_count": 122,
   "metadata": {},
   "outputs": [
    {
     "name": "stdout",
     "output_type": "stream",
     "text": [
      "Best{'neg': 0.0, 'neu': 0.0, 'pos': 1.0, 'compound': 0.6369}\n"
     ]
    }
   ],
   "source": [
    "sentiment_analyser_scores('Best')"
   ]
  },
  {
   "cell_type": "code",
   "execution_count": null,
   "metadata": {},
   "outputs": [],
   "source": []
  }
 ],
 "metadata": {
  "kernelspec": {
   "display_name": "Python 3",
   "language": "python",
   "name": "python3"
  },
  "language_info": {
   "codemirror_mode": {
    "name": "ipython",
    "version": 3
   },
   "file_extension": ".py",
   "mimetype": "text/x-python",
   "name": "python",
   "nbconvert_exporter": "python",
   "pygments_lexer": "ipython3",
   "version": "3.7.6"
  }
 },
 "nbformat": 4,
 "nbformat_minor": 4
}
